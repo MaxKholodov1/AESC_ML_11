{
 "cells": [
  {
   "cell_type": "markdown",
   "metadata": {},
   "source": [
    "# Crossentropy method\n",
    "\n",
    "This notebook will teach you to solve reinforcement learning problems with crossentropy method. We'll follow-up by scaling everything up and using neural network policy."
   ]
  },
  {
   "cell_type": "code",
   "metadata": {
    "ExecuteTime": {
     "end_time": "2025-10-05T15:42:13.245416Z",
     "start_time": "2025-10-05T15:42:13.242938Z"
    }
   },
   "source": [
    "import os"
   ],
   "outputs": [],
   "execution_count": 159
  },
  {
   "cell_type": "code",
   "metadata": {
    "ExecuteTime": {
     "end_time": "2025-10-05T15:42:13.347932Z",
     "start_time": "2025-10-05T15:42:13.260215Z"
    }
   },
   "source": [
    "import gymnasium as gym\n",
    "import numpy as np, pandas as pd\n",
    "\n",
    "# env = gym.make(\"Taxi-v3\", render_mode=\"human\")\n",
    "env = gym.make(\"Taxi-v3\")\n",
    "env.reset()\n",
    "# env.render()"
   ],
   "outputs": [
    {
     "data": {
      "text/plain": [
       "(487, {'prob': 1.0, 'action_mask': array([0, 1, 0, 1, 0, 0], dtype=int8)})"
      ]
     },
     "execution_count": 160,
     "metadata": {},
     "output_type": "execute_result"
    }
   ],
   "execution_count": 160
  },
  {
   "cell_type": "code",
   "metadata": {
    "ExecuteTime": {
     "end_time": "2025-10-05T15:42:13.357583Z",
     "start_time": "2025-10-05T15:42:13.355236Z"
    }
   },
   "source": [
    "n_states = env.observation_space.n\n",
    "n_actions = env.action_space.n\n",
    "\n",
    "print(\"n_states=%i, n_actions=%i\"%(n_states,n_actions))"
   ],
   "outputs": [
    {
     "name": "stdout",
     "output_type": "stream",
     "text": [
      "n_states=500, n_actions=6\n"
     ]
    }
   ],
   "execution_count": 161
  },
  {
   "cell_type": "markdown",
   "metadata": {},
   "source": [
    "# Create stochastic policy\n",
    "\n",
    "This time our policy should be a probability distribution.\n",
    "\n",
    "```policy[s,a] = P(take action a | in state s)```\n",
    "\n",
    "Since we still use integer state and action representations, you can use a 2-dimensional array to represent the policy.\n",
    "\n",
    "Please initialize policy __uniformly__, that is, probabililities of all actions should be equal.\n"
   ]
  },
  {
   "cell_type": "markdown",
   "metadata": {},
   "source": [
    "# Initialize policy (0.5pts)"
   ]
  },
  {
   "cell_type": "code",
   "metadata": {
    "ExecuteTime": {
     "end_time": "2025-10-05T15:42:13.379331Z",
     "start_time": "2025-10-05T15:42:13.375578Z"
    }
   },
   "source": [
    "import numpy as np\n",
    "policy = np.ones((n_states, n_actions)) / n_actions\n",
    "assert type(policy) in (np.ndarray,np.matrix)\n",
    "assert np.allclose(policy,1./n_actions)\n",
    "assert np.allclose(np.sum(policy,axis=1), 1)\n",
    "print(\"Ok!\")"
   ],
   "outputs": [
    {
     "name": "stdout",
     "output_type": "stream",
     "text": [
      "Ok!\n"
     ]
    }
   ],
   "execution_count": 162
  },
  {
   "cell_type": "markdown",
   "metadata": {},
   "source": [
    "# Play the game (0.5pts)\n",
    "\n",
    "Just like before, but we also record all states and actions we took."
   ]
  },
  {
   "cell_type": "code",
   "metadata": {
    "ExecuteTime": {
     "end_time": "2025-10-05T15:42:13.408769Z",
     "start_time": "2025-10-05T15:42:13.404954Z"
    }
   },
   "source": [
    "def generate_session(policy,t_max=500):\n",
    "    \"\"\"\n",
    "    Play game until end or for t_max ticks.\n",
    "    :param policy: an array of shape [n_states,n_actions] with action probabilities\n",
    "    :returns: list of states, list of actions and sum of rewards\n",
    "    \"\"\"\n",
    "    states,actions = [],[]\n",
    "    total_reward = 0.\n",
    "    \n",
    "    s, _ = env.reset()\n",
    "    \n",
    "    for t in range(t_max):\n",
    "        a = np.random.choice(range(n_actions), p = policy[s])\n",
    "        \n",
    "        new_s, r, terminated, truncated, info = env.step(a)\n",
    "        done = terminated or truncated\n",
    "        #Record state, action and add up reward to states,actions and total_reward accordingly.\n",
    "                #add state\n",
    "        states.append(s)\n",
    "                #add action\n",
    "        actions.append(a)\n",
    "        #add reward\n",
    "        total_reward += r\n",
    "\n",
    "        \n",
    "        s = new_s\n",
    "        if done:\n",
    "            break\n",
    "    return states,actions,total_reward\n",
    "        "
   ],
   "outputs": [],
   "execution_count": 163
  },
  {
   "cell_type": "code",
   "metadata": {
    "ExecuteTime": {
     "end_time": "2025-10-05T15:42:13.422806Z",
     "start_time": "2025-10-05T15:42:13.415107Z"
    }
   },
   "source": [
    "s,a,r = generate_session(policy)\n",
    "assert type(s) == type(a) == list\n",
    "assert len(s) == len(a)\n",
    "assert isinstance(r, (float, np.float64))"
   ],
   "outputs": [],
   "execution_count": 164
  },
  {
   "cell_type": "code",
   "metadata": {
    "ExecuteTime": {
     "end_time": "2025-10-05T15:42:14.208297Z",
     "start_time": "2025-10-05T15:42:13.429930Z"
    }
   },
   "source": [
    "#let's see the initial reward distribution\n",
    "import matplotlib.pyplot as plt\n",
    "%matplotlib inline\n",
    "\n",
    "sample_rewards = [generate_session(policy,t_max=1000)[-1] for _ in range(200)]\n",
    "\n",
    "plt.hist(sample_rewards,bins=20);\n",
    "plt.vlines([np.percentile(sample_rewards,50)],[0],[100],label=\"50'th percentile\",color='green')\n",
    "plt.vlines([np.percentile(sample_rewards,90)],[0],[100],label=\"90'th percentile\",color='red')\n",
    "plt.legend()"
   ],
   "outputs": [
    {
     "data": {
      "text/plain": [
       "<matplotlib.legend.Legend at 0x189488d2c10>"
      ]
     },
     "execution_count": 165,
     "metadata": {},
     "output_type": "execute_result"
    },
    {
     "data": {
      "text/plain": [
       "<Figure size 640x480 with 1 Axes>"
      ],
      "image/png": "[encoded data removed]"
     },
     "metadata": {},
     "output_type": "display_data",
     "jetTransient": {
      "display_id": null
     }
    }
   ],
   "execution_count": 165
  },
  {
   "cell_type": "markdown",
   "metadata": {},
   "source": [
    "### Crossentropy method steps (1pts)"
   ]
  },
  {
   "cell_type": "code",
   "metadata": {
    "ExecuteTime": {
     "end_time": "2025-10-05T15:42:14.232904Z",
     "start_time": "2025-10-05T15:42:14.227170Z"
    }
   },
   "source": [
    "def select_elites(states_batch,actions_batch,rewards_batch,percentile=50):\n",
    "    \"\"\"\n",
    "    Select states and actions from games that have rewards >= percentile\n",
    "    :param states_batch: list of lists of states, states_batch[session_i][t]\n",
    "    :param actions_batch: list of lists of actions, actions_batch[session_i][t]\n",
    "    :param rewards_batch: list of rewards, rewards_batch[session_i][t]\n",
    "    \n",
    "    :returns: elite_states,elite_actions, both 1D lists of states and respective actions from elite sessions\n",
    "    \n",
    "    Please return elite states and actions in their original order \n",
    "    [i.e. sorted by session number and timestep within session]\n",
    "    \n",
    "    If you're confused, see examples below. Please don't assume that states are integers (they'll get different later).\n",
    "    \"\"\" \n",
    "    # reward_threshold = #recalc threshold. hint : np.percentile\n",
    "    reward_threshold = np.percentile(rewards_batch, percentile)\n",
    "    elite_actions = []\n",
    "    elite_states = []\n",
    "    for states, actions, reward in zip(states_batch, actions_batch, rewards_batch):\n",
    "        if reward >= reward_threshold:\n",
    "            elite_states.append(states)\n",
    "            elite_actions.append(actions)\n",
    "    if len(np.array(states_batch[0]).shape) == 1:\n",
    "        elite_states = np.hstack(elite_states)\n",
    "    else:\n",
    "        elite_states = np.vstack(elite_states)\n",
    "\n",
    "    elite_actions = np.hstack(elite_actions)\n",
    "\n",
    "    return list(elite_states), list(elite_actions)\n",
    "    "
   ],
   "outputs": [],
   "execution_count": 166
  },
  {
   "cell_type": "code",
   "metadata": {
    "ExecuteTime": {
     "end_time": "2025-10-05T15:42:14.245477Z",
     "start_time": "2025-10-05T15:42:14.239944Z"
    }
   },
   "source": [
    "import numpy as np\n",
    "states_batch = ([\n",
    "    np.array([1,2,3]),   #game1\n",
    "    np.array([4,2,0,2]), #game2\n",
    "    np.array([3,1])      #game3\n",
    "])\n",
    "\n",
    "actions_batch = ([\n",
    "    np.array([0,2,4]),   #game1\n",
    "    np.array([3,2,0,1]), #game2\n",
    "    np.array([3,3])      #game3\n",
    "])\n",
    "rewards_batch = np.array([\n",
    "    3,         #game1\n",
    "    4,         #game2\n",
    "    5,         #game3\n",
    "])\n",
    "\n",
    "test_result_0 = select_elites(states_batch,actions_batch,rewards_batch,percentile=0)\n",
    "test_result_40 = select_elites(states_batch,actions_batch,rewards_batch,percentile=30)\n",
    "test_result_90 = select_elites(states_batch,actions_batch,rewards_batch,percentile=90)\n",
    "test_result_100 = select_elites(states_batch,actions_batch,rewards_batch,percentile=100)\n",
    "\n",
    "assert np.all(test_result_0[0] == [1, 2, 3, 4, 2, 0, 2, 3, 1])  \\\n",
    "   and np.all(test_result_0[1] == [0, 2, 4, 3, 2, 0, 1, 3, 3]),\\\n",
    "        \"For percentile 0 you should return all states and actions in chronological order\"\n",
    "assert np.all(test_result_40[0] == [4, 2, 0, 2, 3, 1]) and \\\n",
    "        np.all(test_result_40[1] ==[3, 2, 0, 1, 3, 3]),\\\n",
    "        \"For percentile 30 you should only select states/actions from two first\"\n",
    "assert np.all(test_result_90[0] == [3,1]) and \\\n",
    "        np.all(test_result_90[1] == [3,3]),\\\n",
    "        \"For percentile 90 you should only select states/actions from one game\"\n",
    "assert np.all(test_result_100[0] == [3,1]) and\\\n",
    "       np.all(test_result_100[1] == [3,3]),\\\n",
    "        \"Please make sure you use >=, not >. Also double-check how you compute percentile.\"\n",
    "print(\"Ok!\")"
   ],
   "outputs": [
    {
     "name": "stdout",
     "output_type": "stream",
     "text": [
      "Ok!\n"
     ]
    }
   ],
   "execution_count": 167
  },
  {
   "cell_type": "code",
   "metadata": {
    "ExecuteTime": {
     "end_time": "2025-10-05T15:42:14.263029Z",
     "start_time": "2025-10-05T15:42:14.259309Z"
    }
   },
   "source": [
    "def update_policy(elite_states,elite_actions):\n",
    "    \"\"\"\n",
    "    Given old policy and a list of elite states/actions from select_elites,\n",
    "    return new updated policy where each action probability is proportional to\n",
    "    \n",
    "    policy[s_i,a_i] ~ #[occurences of si and ai in elite states/actions]\n",
    "    \n",
    "    Don't forget to normalize policy to get valid probabilities and handle 0/0 case.\n",
    "    In case you never visited a state, set probabilities for all actions to 1./n_actions\n",
    "    \n",
    "    :param elite_states: 1D list of states from elite sessions\n",
    "    :param elite_actions: 1D list of actions from elite sessions\n",
    "    \n",
    "    \"\"\"\n",
    "    \n",
    "    new_policy = np.zeros([n_states,n_actions])\n",
    "    for s, a in zip(elite_states, elite_actions):\n",
    "        new_policy[s, a] += 1\n",
    "    for s in range(n_states):\n",
    "        total = np.sum(new_policy[s])\n",
    "        if total > 0:\n",
    "            new_policy[s] /= total\n",
    "        else:\n",
    "            new_policy[s] = 1.0 / n_actions\n",
    "    #<Your code here: update probabilities for actions given elite states & actions>\n",
    "    #Don't forget to set 1/n_actions for all actions in unvisited states.\n",
    "    \n",
    "    return new_policy"
   ],
   "outputs": [],
   "execution_count": 168
  },
  {
   "cell_type": "code",
   "metadata": {
    "ExecuteTime": {
     "end_time": "2025-10-05T15:42:14.280776Z",
     "start_time": "2025-10-05T15:42:14.273851Z"
    }
   },
   "source": [
    "\n",
    "elite_states, elite_actions = ([1, 2, 3, 4, 2, 0, 2, 3, 1], [0, 2, 4, 3, 2, 0, 1, 3, 3])\n",
    "\n",
    "\n",
    "new_policy = update_policy(elite_states,elite_actions)\n",
    "\n",
    "assert np.isfinite(new_policy).all(), \"Your new policy contains NaNs or +-inf. Make sure you don't divide by zero.\"\n",
    "assert np.all(new_policy>=0), \"Your new policy can't have negative action probabilities\"\n",
    "assert np.allclose(new_policy.sum(axis=-1),1), \"Your new policy should be a valid probability distribution over actions\"\n",
    "reference_answer = np.array([\n",
    "       [ 1.        ,  0.        ,  0.        ,  0.        ,  0.        ],\n",
    "       [ 0.5       ,  0.        ,  0.        ,  0.5       ,  0.        ],\n",
    "       [ 0.        ,  0.33333333,  0.66666667,  0.        ,  0.        ],\n",
    "       [ 0.        ,  0.        ,  0.        ,  0.5       ,  0.5       ]])\n",
    "print(new_policy[:4,:5])\n",
    "assert np.allclose(new_policy[:4,:5],reference_answer)\n",
    "print(\"Ok!\")"
   ],
   "outputs": [
    {
     "name": "stdout",
     "output_type": "stream",
     "text": [
      "[[1.         0.         0.         0.         0.        ]\n",
      " [0.5        0.         0.         0.5        0.        ]\n",
      " [0.         0.33333333 0.66666667 0.         0.        ]\n",
      " [0.         0.         0.         0.5        0.5       ]]\n",
      "Ok!\n"
     ]
    }
   ],
   "execution_count": 169
  },
  {
   "cell_type": "markdown",
   "metadata": {},
   "source": [
    "# Training loop (1pts)\n",
    "Generate sessions, select N best and fit to those."
   ]
  },
  {
   "cell_type": "code",
   "metadata": {
    "ExecuteTime": {
     "end_time": "2025-10-05T15:42:14.299731Z",
     "start_time": "2025-10-05T15:42:14.294534Z"
    }
   },
   "source": [
    "from IPython.display import clear_output\n",
    "import matplotlib.pyplot as plt\n",
    "%matplotlib inline\n",
    "\n",
    "def show_progress(rewards_batch,log, reward_range=[-990,+10]):\n",
    "    \"\"\"\n",
    "    A convenience function that displays training progress. \n",
    "    No cool math here, just charts.\n",
    "    \"\"\"\n",
    "    \n",
    "    mean_reward = np.mean(rewards_batch)\n",
    "    threshold = np.percentile(rewards_batch,percentile)\n",
    "    log.append([mean_reward,threshold])\n",
    "\n",
    "    clear_output(True)\n",
    "    print(\"mean reward = %.3f, threshold=%.3f\"%(mean_reward,threshold))\n",
    "    plt.figure(figsize=[8,4])\n",
    "    plt.subplot(1,2,1)\n",
    "    plt.plot(list(zip(*log))[0],label='Mean rewards')\n",
    "    plt.plot(list(zip(*log))[1],label='Reward thresholds')\n",
    "    plt.legend()\n",
    "    plt.grid()\n",
    "    \n",
    "    plt.subplot(1,2,2)\n",
    "    plt.hist(rewards_batch,range=reward_range);\n",
    "    plt.vlines([np.percentile(rewards_batch,percentile)],[0],[100],label=\"percentile\",color='red')\n",
    "    plt.legend()\n",
    "    plt.grid()\n",
    "\n",
    "    plt.show()\n"
   ],
   "outputs": [],
   "execution_count": 170
  },
  {
   "cell_type": "code",
   "metadata": {
    "ExecuteTime": {
     "end_time": "2025-10-05T15:42:14.309989Z",
     "start_time": "2025-10-05T15:42:14.307819Z"
    }
   },
   "source": [
    "#reset policy just in case\n"
   ],
   "outputs": [],
   "execution_count": 171
  },
  {
   "cell_type": "code",
   "metadata": {
    "ExecuteTime": {
     "end_time": "2025-10-05T15:42:14.317543Z",
     "start_time": "2025-10-05T15:42:14.315060Z"
    }
   },
   "source": [
    "# n_sessions = 250  #sample this many sessions\n",
    "# percentile = 70  #take this percent of session with highest rewards\n",
    "# learning_rate = 0.5  #add this thing to all counts for stability\n",
    "#\n",
    "# log = []\n",
    "#\n",
    "# for i in range(100):\n",
    "#    # генерируем сессии\n",
    "#     sessions = [generate_session(policy) for _ in range(n_sessions)]\n",
    "#\n",
    "#     states_batch, actions_batch, rewards_batch = zip(*sessions)\n",
    "#\n",
    "#     # выбираем элитные состояния/действия\n",
    "#     elite_states, elite_actions = select_elites(\n",
    "#         states_batch, actions_batch, rewards_batch, percentile=100 - percentile\n",
    "#     )\n",
    "#\n",
    "#     # обновляем политику\n",
    "#     new_policy = update_policy(elite_states, elite_actions)\n",
    "#     policy = learning_rate * new_policy + (1 - learning_rate) * policy\n",
    "#\n",
    "#     # отображаем прогресс\n",
    "#     show_progress(rewards_batch, log)"
   ],
   "outputs": [],
   "execution_count": 172
  },
  {
   "cell_type": "markdown",
   "metadata": {},
   "source": [
    "# Tabular crossentropy method\n",
    "\n",
    "You may have noticed that the taxi problem quickly converges from -100 to a near-optimal score and then descends back into -50/-100. This is in part because the environment has some innate randomness. Namely, the starting points of passenger/driver change from episode to episode.\n",
    "\n",
    "### Tasks\n",
    "- __1.1__ (1 pts) Find out how the algorithm performance changes if you change different percentile and different n_samples. Show all precentiles on one graph and all n_samples on another\n",
    "- __1.2__ (1 pts) Tune the algorithm to end up with positive average score.\n",
    "\n",
    "It's okay to modify the existing code.\n"
   ]
  },
  {
   "cell_type": "code",
   "metadata": {
    "ExecuteTime": {
     "end_time": "2025-10-05T15:42:14.336234Z",
     "start_time": "2025-10-05T15:42:14.324158Z"
    }
   },
   "source": [
    "import numpy as np, pandas as pd\n",
    "import gymnasium as gym\n",
    "\n",
    "env = gym.make(\"Taxi-v3\")\n",
    "env.reset()\n",
    "n_states = env.observation_space.n\n",
    "n_actions = env.action_space.n\n",
    "policy = 1/6. * np.ones([n_states, n_actions])\n",
    "assert type(policy) in (np.ndarray,np.matrix)\n",
    "assert np.allclose(policy,1./n_actions)\n",
    "assert np.allclose(np.sum(policy,axis=1), 1)\n",
    "s,a,r = generate_session(policy)\n",
    "assert type(s) == type(a) == list\n",
    "assert len(s) == len(a)\n",
    "assert isinstance(r, (float, np.float64))\n",
    "policy = np.ones([n_states,n_actions])/n_actions \n",
    "stepCounter = 60"
   ],
   "outputs": [],
   "execution_count": 173
  },
  {
   "cell_type": "code",
   "metadata": {
    "ExecuteTime": {
     "end_time": "2025-10-05T15:42:14.345097Z",
     "start_time": "2025-10-05T15:42:14.341803Z"
    }
   },
   "source": [
    "# n_sessions = 250  #sample this many sessions\n",
    "# percentiles = [30, 50, 70, 90]  #take this percent of session with highest rewards\n",
    "# learning_rate = 0.5  #add this thing to all counts for stability\n",
    "# mean_by_percentile = {}\n",
    "#\n",
    "#\n",
    "# log = []\n",
    "# mean = []\n",
    "# for percentile in percentiles:\n",
    "#     curMean = []\n",
    "#     policy = np.ones([n_states,n_actions])/n_actions\n",
    "#     for i in range(stepCounter):\n",
    "#\n",
    "#         %time sessions = [generate_session(policy) for _ in range(n_sessions)]\n",
    "#\n",
    "#         states_batch,actions_batch,rewards_batch = zip(*sessions)\n",
    "#\n",
    "#         elite_states, elite_actions = select_elites(states_batch,actions_batch,rewards_batch,percentile=100 -percentile)\n",
    "#         new_policy = update_policy(elite_states, elite_actions)\n",
    "#         policy = learning_rate * new_policy + (1 - learning_rate) * policy\n",
    "#\n",
    "#         curMean.append(np.mean(rewards_batch))\n",
    "#         #set new policy\n",
    "#         #update policy\n",
    "#         #add mean value\n",
    "#     mean_by_percentile[percentile] = curMean  # сохраняем результаты для этого percentile\n",
    "#     #display results on chart\n",
    "# plt.figure(figsize=(8,5))\n",
    "# for percentile, mean_rewards in mean_by_percentile.items():\n",
    "#     plt.plot(mean_rewards, label=f'percentile={percentile}')\n",
    "# plt.xlabel('Iteration')\n",
    "# plt.ylabel('Mean reward')\n",
    "# plt.title('Effect of percentile on learning')\n",
    "# plt.legend()\n",
    "# plt.grid()\n",
    "# plt.show()"
   ],
   "outputs": [],
   "execution_count": 174
  },
  {
   "cell_type": "markdown",
   "metadata": {},
   "source": [
    "# How do different percentiles affect training efficiency?"
   ]
  },
  {
   "metadata": {
    "ExecuteTime": {
     "end_time": "2025-10-05T06:29:12.058998Z",
     "start_time": "2025-10-05T06:29:12.055711Z"
    }
   },
   "cell_type": "markdown",
   "source": [
    "Низкие процентили (например, 30 - 10%) - быстрый рост, но большой риск застрять в локальном\n",
    "максимуме из-за того, что мало новых данных.\n",
    "\n",
    "Средние процентили (около 50%) - лучший компромисс, стабильное и эффективное обучение.\n",
    "\n",
    "Высокие процентили (70%) - медленный рост, обновления размываются низкоэффективными сессиями."
   ]
  },
  {
   "cell_type": "code",
   "metadata": {
    "ExecuteTime": {
     "end_time": "2025-10-05T15:42:14.352533Z",
     "start_time": "2025-10-05T15:42:14.350204Z"
    }
   },
   "source": [
    "# n_sessions_ar = [100, 200, 300, 400]  #sample this many sessions\n",
    "# perc = 50  #take this percent of session with highest rewards\n",
    "# learning_rate = 0.5  #add this thing to all counts for stability\n",
    "#\n",
    "# log = []\n",
    "# mean = []\n",
    "# for n_sessions in n_sessions_ar:\n",
    "#     curMean = []\n",
    "#     policy = np.ones([n_states,n_actions])/n_actions\n",
    "#     for i in range(stepCounter):\n",
    "#\n",
    "#         %time sessions = [generate_session(policy) for _ in range(n_sessions)]\n",
    "#\n",
    "#         states_batch,actions_batch,rewards_batch = zip(*sessions)\n",
    "#\n",
    "#         elite_states, elite_actions = select_elites(\n",
    "#             states_batch,\n",
    "#             actions_batch,rewards_batch,\n",
    "#             percentile=100 - perc)\n",
    "#\n",
    "#         #set new policy\n",
    "#         #update policy\n",
    "#         #add mean value\n",
    "#         new_policy = update_policy(elite_states, elite_actions)\n",
    "#         policy = learning_rate * new_policy + (1 - learning_rate) * policy\n",
    "#         curMean.append(np.mean(rewards_batch))\n",
    "#         clear_output(True)\n",
    "#     mean.append(curMean)\n",
    "#     #display results on chart\n",
    "#     plt.figure(figsize=(8,5))\n",
    "# for idx, n_sessions in enumerate(n_sessions_ar):\n",
    "#     plt.plot(mean[idx], label=f'n_sessions={n_sessions}')\n",
    "# plt.xlabel('Iteration')\n",
    "# plt.ylabel('Mean reward')\n",
    "# plt.title('Effect of n_sessions on learning')\n",
    "# plt.legend()\n",
    "# plt.grid()\n",
    "# plt.show()"
   ],
   "outputs": [],
   "execution_count": 175
  },
  {
   "cell_type": "markdown",
   "metadata": {},
   "source": [
    "# Stabilize positive rewards by averaging policy across 10 games (2 pts)"
   ]
  },
  {
   "cell_type": "code",
   "metadata": {
    "ExecuteTime": {
     "end_time": "2025-10-05T15:42:14.360678Z",
     "start_time": "2025-10-05T15:42:14.357824Z"
    }
   },
   "source": [
    "# n_sessions = 500  #sample this many sessions\n",
    "# percentile = 80  #take this percent of session with highest rewards\n",
    "# learning_rate = 0.31 #add this thing to all counts for stability\n",
    "# #200, 70, 0.3 -- 3.45\n",
    "# #200, 65, 0.3 -- 2.78\n",
    "# #200, 75, 0.3 -- 3.445\n",
    "# #200, 70, 0.25 -- 3.515\n",
    "# #250, 70, 0.23 -- 4.624\n",
    "# #300, 70, 0.23 -- 4.403\n",
    "# #500, 80, 0.3 -- 6.78\n",
    "# #550, 83, 0.3 -- 6.474545454545455\n",
    "# #500, 82, 0.28 -- 6.778\n",
    "# #500, 82, 0.3 -- 6.254\n",
    "# #500, 78, 0.3 -- 5.78\n",
    "# #480, 80, 0.3 -- 5.902083333333334\n",
    "# log = []\n",
    "# mx = -10000\n",
    "# policies = []\n",
    "# max_log = []\n",
    "# log_file = \"max_rewards.log\"\n",
    "# for i in range(2000):\n",
    "#    # генерируем сессии\n",
    "#     sessions = [generate_session(policy) for _ in range(n_sessions)]\n",
    "#\n",
    "#     states_batch, actions_batch, rewards_batch = zip(*sessions)\n",
    "#\n",
    "#     # выбираем элитные состояния/действия\n",
    "#     elite_states, elite_actions = select_elites(\n",
    "#         states_batch, actions_batch, rewards_batch, percentile=100 - percentile\n",
    "#     )\n",
    "#\n",
    "#     # обновляем политику\n",
    "#     new_policy = update_policy(elite_states, elite_actions)\n",
    "#     policies.append(new_policy)\n",
    "#     if len(policies) > 20:\n",
    "#         policies.pop(0)\n",
    "#\n",
    "#     avg_policy = np.mean(policies, axis=0)\n",
    "#\n",
    "#     policy = learning_rate * avg_policy + (1 - learning_rate) * policy\n",
    "#\n",
    "#     # отображаем прогресс\n",
    "#     show_progress(rewards_batch, log)\n",
    "#     if (np.mean(rewards_batch) > mx and np.mean(rewards_batch) > -10):\n",
    "#         mx = np.mean(rewards_batch)\n",
    "#         max_log.append(mx)\n",
    "#         with open(log_file, \"a\") as f:\n",
    "#             f.write(f\"iteration {i}: new max = {mx:.3f}\\n\")\n",
    "#         print(f\"Итерация {i}: новый максимум = {mx:.3f}\")\n",
    "#     if(np.mean(rewards_batch) > 7):\n",
    "#         print(\"win!\")\n",
    "#         break\n",
    "# print(\"Все максимумы:\", max_log)"
   ],
   "outputs": [],
   "execution_count": 176
  },
  {
   "cell_type": "markdown",
   "metadata": {},
   "source": [
    "# Digging deeper: approximate crossentropy with neural nets (2 pts)\n",
    "\n",
    "In this section we will train a neural network policy for continuous state space game"
   ]
  },
  {
   "cell_type": "code",
   "metadata": {
    "ExecuteTime": {
     "end_time": "2025-10-05T15:50:44.913434Z",
     "start_time": "2025-10-05T15:50:44.877543Z"
    }
   },
   "source": [
    "import gymnasium as gym\n",
    "import matplotlib.pyplot as plt\n",
    "\n",
    "env = gym.make(\"CartPole-v1\", render_mode=\"rgb_array\")\n",
    "obs, _ = env.reset()\n",
    "\n",
    "frame = env.render()\n",
    "plt.imshow(frame)\n",
    "plt.axis('off')\n",
    "plt.show()\n"
   ],
   "outputs": [
    {
     "data": {
      "text/plain": [
       "<Figure size 640x480 with 1 Axes>"
      ],
      "image/png": "[encoded data removed]"
     },
     "metadata": {},
     "output_type": "display_data",
     "jetTransient": {
      "display_id": null
     }
    }
   ],
   "execution_count": 188
  },
  {
   "cell_type": "markdown",
   "metadata": {},
   "source": [
    "In this case use NN as a black box. All your should know that it is more complex than a tabular method. "
   ]
  },
  {
   "cell_type": "code",
   "metadata": {
    "ExecuteTime": {
     "end_time": "2025-10-05T15:50:44.928706Z",
     "start_time": "2025-10-05T15:50:44.920098Z"
    }
   },
   "source": [
    "#create agent\n",
    "from sklearn.neural_network import MLPClassifier\n",
    "agent = MLPClassifier(hidden_layer_sizes=(20,20),\n",
    "                      activation='tanh',\n",
    "                      warm_start=True, #keep progress between .fit(...) calls\n",
    "                      max_iter=1 #make only 1 iteration on each .fit(...)\n",
    "                     )\n",
    "#initialize agent to the dimension of state an amount of actions\n",
    "X_init = np.tile(obs, (n_actions, 1))\n",
    "y_init = np.arange(n_actions)\n",
    "agent.partial_fit(X_init, y_init, classes=np.arange(n_actions))\n"
   ],
   "outputs": [
    {
     "data": {
      "text/plain": [
       "MLPClassifier(activation='tanh', hidden_layer_sizes=(20, 20), max_iter=1,\n",
       "              warm_start=True)"
      ],
      "text/html": [
       "<style>#sk-container-id-12 {\n",
       "  /* Definition of color scheme common for light and dark mode */\n",
       "  --sklearn-color-text: #000;\n",
       "  --sklearn-color-text-muted: #666;\n",
       "  --sklearn-color-line: gray;\n",
       "  /* Definition of color scheme for unfitted estimators */\n",
       "  --sklearn-color-unfitted-level-0: #fff5e6;\n",
       "  --sklearn-color-unfitted-level-1: #f6e4d2;\n",
       "  --sklearn-color-unfitted-level-2: #ffe0b3;\n",
       "  --sklearn-color-unfitted-level-3: chocolate;\n",
       "  /* Definition of color scheme for fitted estimators */\n",
       "  --sklearn-color-fitted-level-0: #f0f8ff;\n",
       "  --sklearn-color-fitted-level-1: #d4ebff;\n",
       "  --sklearn-color-fitted-level-2: #b3dbfd;\n",
       "  --sklearn-color-fitted-level-3: cornflowerblue;\n",
       "\n",
       "  /* Specific color for light theme */\n",
       "  --sklearn-color-text-on-default-background: var(--sg-text-color, var(--theme-code-foreground, var(--jp-content-font-color1, black)));\n",
       "  --sklearn-color-background: var(--sg-background-color, var(--theme-background, var(--jp-layout-color0, white)));\n",
       "  --sklearn-color-border-box: var(--sg-text-color, var(--theme-code-foreground, var(--jp-content-font-color1, black)));\n",
       "  --sklearn-color-icon: #696969;\n",
       "\n",
       "  @media (prefers-color-scheme: dark) {\n",
       "    /* Redefinition of color scheme for dark theme */\n",
       "    --sklearn-color-text-on-default-background: var(--sg-text-color, var(--theme-code-foreground, var(--jp-content-font-color1, white)));\n",
       "    --sklearn-color-background: var(--sg-background-color, var(--theme-background, var(--jp-layout-color0, #111)));\n",
       "    --sklearn-color-border-box: var(--sg-text-color, var(--theme-code-foreground, var(--jp-content-font-color1, white)));\n",
       "    --sklearn-color-icon: #878787;\n",
       "  }\n",
       "}\n",
       "\n",
       "#sk-container-id-12 {\n",
       "  color: var(--sklearn-color-text);\n",
       "}\n",
       "\n",
       "#sk-container-id-12 pre {\n",
       "  padding: 0;\n",
       "}\n",
       "\n",
       "#sk-container-id-12 input.sk-hidden--visually {\n",
       "  border: 0;\n",
       "  clip: rect(1px 1px 1px 1px);\n",
       "  clip: rect(1px, 1px, 1px, 1px);\n",
       "  height: 1px;\n",
       "  margin: -1px;\n",
       "  overflow: hidden;\n",
       "  padding: 0;\n",
       "  position: absolute;\n",
       "  width: 1px;\n",
       "}\n",
       "\n",
       "#sk-container-id-12 div.sk-dashed-wrapped {\n",
       "  border: 1px dashed var(--sklearn-color-line);\n",
       "  margin: 0 0.4em 0.5em 0.4em;\n",
       "  box-sizing: border-box;\n",
       "  padding-bottom: 0.4em;\n",
       "  background-color: var(--sklearn-color-background);\n",
       "}\n",
       "\n",
       "#sk-container-id-12 div.sk-container {\n",
       "  /* jupyter's `normalize.less` sets `[hidden] { display: none; }`\n",
       "     but bootstrap.min.css set `[hidden] { display: none !important; }`\n",
       "     so we also need the `!important` here to be able to override the\n",
       "     default hidden behavior on the sphinx rendered scikit-learn.org.\n",
       "     See: https://github.com/scikit-learn/scikit-learn/issues/21755 */\n",
       "  display: inline-block !important;\n",
       "  position: relative;\n",
       "}\n",
       "\n",
       "#sk-container-id-12 div.sk-text-repr-fallback {\n",
       "  display: none;\n",
       "}\n",
       "\n",
       "div.sk-parallel-item,\n",
       "div.sk-serial,\n",
       "div.sk-item {\n",
       "  /* draw centered vertical line to link estimators */\n",
       "  background-image: linear-gradient(var(--sklearn-color-text-on-default-background), var(--sklearn-color-text-on-default-background));\n",
       "  background-size: 2px 100%;\n",
       "  background-repeat: no-repeat;\n",
       "  background-position: center center;\n",
       "}\n",
       "\n",
       "/* Parallel-specific style estimator block */\n",
       "\n",
       "#sk-container-id-12 div.sk-parallel-item::after {\n",
       "  content: \"\";\n",
       "  width: 100%;\n",
       "  border-bottom: 2px solid var(--sklearn-color-text-on-default-background);\n",
       "  flex-grow: 1;\n",
       "}\n",
       "\n",
       "#sk-container-id-12 div.sk-parallel {\n",
       "  display: flex;\n",
       "  align-items: stretch;\n",
       "  justify-content: center;\n",
       "  background-color: var(--sklearn-color-background);\n",
       "  position: relative;\n",
       "}\n",
       "\n",
       "#sk-container-id-12 div.sk-parallel-item {\n",
       "  display: flex;\n",
       "  flex-direction: column;\n",
       "}\n",
       "\n",
       "#sk-container-id-12 div.sk-parallel-item:first-child::after {\n",
       "  align-self: flex-end;\n",
       "  width: 50%;\n",
       "}\n",
       "\n",
       "#sk-container-id-12 div.sk-parallel-item:last-child::after {\n",
       "  align-self: flex-start;\n",
       "  width: 50%;\n",
       "}\n",
       "\n",
       "#sk-container-id-12 div.sk-parallel-item:only-child::after {\n",
       "  width: 0;\n",
       "}\n",
       "\n",
       "/* Serial-specific style estimator block */\n",
       "\n",
       "#sk-container-id-12 div.sk-serial {\n",
       "  display: flex;\n",
       "  flex-direction: column;\n",
       "  align-items: center;\n",
       "  background-color: var(--sklearn-color-background);\n",
       "  padding-right: 1em;\n",
       "  padding-left: 1em;\n",
       "}\n",
       "\n",
       "\n",
       "/* Toggleable style: style used for estimator/Pipeline/ColumnTransformer box that is\n",
       "clickable and can be expanded/collapsed.\n",
       "- Pipeline and ColumnTransformer use this feature and define the default style\n",
       "- Estimators will overwrite some part of the style using the `sk-estimator` class\n",
       "*/\n",
       "\n",
       "/* Pipeline and ColumnTransformer style (default) */\n",
       "\n",
       "#sk-container-id-12 div.sk-toggleable {\n",
       "  /* Default theme specific background. It is overwritten whether we have a\n",
       "  specific estimator or a Pipeline/ColumnTransformer */\n",
       "  background-color: var(--sklearn-color-background);\n",
       "}\n",
       "\n",
       "/* Toggleable label */\n",
       "#sk-container-id-12 label.sk-toggleable__label {\n",
       "  cursor: pointer;\n",
       "  display: flex;\n",
       "  width: 100%;\n",
       "  margin-bottom: 0;\n",
       "  padding: 0.5em;\n",
       "  box-sizing: border-box;\n",
       "  text-align: center;\n",
       "  align-items: start;\n",
       "  justify-content: space-between;\n",
       "  gap: 0.5em;\n",
       "}\n",
       "\n",
       "#sk-container-id-12 label.sk-toggleable__label .caption {\n",
       "  font-size: 0.6rem;\n",
       "  font-weight: lighter;\n",
       "  color: var(--sklearn-color-text-muted);\n",
       "}\n",
       "\n",
       "#sk-container-id-12 label.sk-toggleable__label-arrow:before {\n",
       "  /* Arrow on the left of the label */\n",
       "  content: \"▸\";\n",
       "  float: left;\n",
       "  margin-right: 0.25em;\n",
       "  color: var(--sklearn-color-icon);\n",
       "}\n",
       "\n",
       "#sk-container-id-12 label.sk-toggleable__label-arrow:hover:before {\n",
       "  color: var(--sklearn-color-text);\n",
       "}\n",
       "\n",
       "/* Toggleable content - dropdown */\n",
       "\n",
       "#sk-container-id-12 div.sk-toggleable__content {\n",
       "  max-height: 0;\n",
       "  max-width: 0;\n",
       "  overflow: hidden;\n",
       "  text-align: left;\n",
       "  /* unfitted */\n",
       "  background-color: var(--sklearn-color-unfitted-level-0);\n",
       "}\n",
       "\n",
       "#sk-container-id-12 div.sk-toggleable__content.fitted {\n",
       "  /* fitted */\n",
       "  background-color: var(--sklearn-color-fitted-level-0);\n",
       "}\n",
       "\n",
       "#sk-container-id-12 div.sk-toggleable__content pre {\n",
       "  margin: 0.2em;\n",
       "  border-radius: 0.25em;\n",
       "  color: var(--sklearn-color-text);\n",
       "  /* unfitted */\n",
       "  background-color: var(--sklearn-color-unfitted-level-0);\n",
       "}\n",
       "\n",
       "#sk-container-id-12 div.sk-toggleable__content.fitted pre {\n",
       "  /* unfitted */\n",
       "  background-color: var(--sklearn-color-fitted-level-0);\n",
       "}\n",
       "\n",
       "#sk-container-id-12 input.sk-toggleable__control:checked~div.sk-toggleable__content {\n",
       "  /* Expand drop-down */\n",
       "  max-height: 200px;\n",
       "  max-width: 100%;\n",
       "  overflow: auto;\n",
       "}\n",
       "\n",
       "#sk-container-id-12 input.sk-toggleable__control:checked~label.sk-toggleable__label-arrow:before {\n",
       "  content: \"▾\";\n",
       "}\n",
       "\n",
       "/* Pipeline/ColumnTransformer-specific style */\n",
       "\n",
       "#sk-container-id-12 div.sk-label input.sk-toggleable__control:checked~label.sk-toggleable__label {\n",
       "  color: var(--sklearn-color-text);\n",
       "  background-color: var(--sklearn-color-unfitted-level-2);\n",
       "}\n",
       "\n",
       "#sk-container-id-12 div.sk-label.fitted input.sk-toggleable__control:checked~label.sk-toggleable__label {\n",
       "  background-color: var(--sklearn-color-fitted-level-2);\n",
       "}\n",
       "\n",
       "/* Estimator-specific style */\n",
       "\n",
       "/* Colorize estimator box */\n",
       "#sk-container-id-12 div.sk-estimator input.sk-toggleable__control:checked~label.sk-toggleable__label {\n",
       "  /* unfitted */\n",
       "  background-color: var(--sklearn-color-unfitted-level-2);\n",
       "}\n",
       "\n",
       "#sk-container-id-12 div.sk-estimator.fitted input.sk-toggleable__control:checked~label.sk-toggleable__label {\n",
       "  /* fitted */\n",
       "  background-color: var(--sklearn-color-fitted-level-2);\n",
       "}\n",
       "\n",
       "#sk-container-id-12 div.sk-label label.sk-toggleable__label,\n",
       "#sk-container-id-12 div.sk-label label {\n",
       "  /* The background is the default theme color */\n",
       "  color: var(--sklearn-color-text-on-default-background);\n",
       "}\n",
       "\n",
       "/* On hover, darken the color of the background */\n",
       "#sk-container-id-12 div.sk-label:hover label.sk-toggleable__label {\n",
       "  color: var(--sklearn-color-text);\n",
       "  background-color: var(--sklearn-color-unfitted-level-2);\n",
       "}\n",
       "\n",
       "/* Label box, darken color on hover, fitted */\n",
       "#sk-container-id-12 div.sk-label.fitted:hover label.sk-toggleable__label.fitted {\n",
       "  color: var(--sklearn-color-text);\n",
       "  background-color: var(--sklearn-color-fitted-level-2);\n",
       "}\n",
       "\n",
       "/* Estimator label */\n",
       "\n",
       "#sk-container-id-12 div.sk-label label {\n",
       "  font-family: monospace;\n",
       "  font-weight: bold;\n",
       "  display: inline-block;\n",
       "  line-height: 1.2em;\n",
       "}\n",
       "\n",
       "#sk-container-id-12 div.sk-label-container {\n",
       "  text-align: center;\n",
       "}\n",
       "\n",
       "/* Estimator-specific */\n",
       "#sk-container-id-12 div.sk-estimator {\n",
       "  font-family: monospace;\n",
       "  border: 1px dotted var(--sklearn-color-border-box);\n",
       "  border-radius: 0.25em;\n",
       "  box-sizing: border-box;\n",
       "  margin-bottom: 0.5em;\n",
       "  /* unfitted */\n",
       "  background-color: var(--sklearn-color-unfitted-level-0);\n",
       "}\n",
       "\n",
       "#sk-container-id-12 div.sk-estimator.fitted {\n",
       "  /* fitted */\n",
       "  background-color: var(--sklearn-color-fitted-level-0);\n",
       "}\n",
       "\n",
       "/* on hover */\n",
       "#sk-container-id-12 div.sk-estimator:hover {\n",
       "  /* unfitted */\n",
       "  background-color: var(--sklearn-color-unfitted-level-2);\n",
       "}\n",
       "\n",
       "#sk-container-id-12 div.sk-estimator.fitted:hover {\n",
       "  /* fitted */\n",
       "  background-color: var(--sklearn-color-fitted-level-2);\n",
       "}\n",
       "\n",
       "/* Specification for estimator info (e.g. \"i\" and \"?\") */\n",
       "\n",
       "/* Common style for \"i\" and \"?\" */\n",
       "\n",
       ".sk-estimator-doc-link,\n",
       "a:link.sk-estimator-doc-link,\n",
       "a:visited.sk-estimator-doc-link {\n",
       "  float: right;\n",
       "  font-size: smaller;\n",
       "  line-height: 1em;\n",
       "  font-family: monospace;\n",
       "  background-color: var(--sklearn-color-background);\n",
       "  border-radius: 1em;\n",
       "  height: 1em;\n",
       "  width: 1em;\n",
       "  text-decoration: none !important;\n",
       "  margin-left: 0.5em;\n",
       "  text-align: center;\n",
       "  /* unfitted */\n",
       "  border: var(--sklearn-color-unfitted-level-1) 1pt solid;\n",
       "  color: var(--sklearn-color-unfitted-level-1);\n",
       "}\n",
       "\n",
       ".sk-estimator-doc-link.fitted,\n",
       "a:link.sk-estimator-doc-link.fitted,\n",
       "a:visited.sk-estimator-doc-link.fitted {\n",
       "  /* fitted */\n",
       "  border: var(--sklearn-color-fitted-level-1) 1pt solid;\n",
       "  color: var(--sklearn-color-fitted-level-1);\n",
       "}\n",
       "\n",
       "/* On hover */\n",
       "div.sk-estimator:hover .sk-estimator-doc-link:hover,\n",
       ".sk-estimator-doc-link:hover,\n",
       "div.sk-label-container:hover .sk-estimator-doc-link:hover,\n",
       ".sk-estimator-doc-link:hover {\n",
       "  /* unfitted */\n",
       "  background-color: var(--sklearn-color-unfitted-level-3);\n",
       "  color: var(--sklearn-color-background);\n",
       "  text-decoration: none;\n",
       "}\n",
       "\n",
       "div.sk-estimator.fitted:hover .sk-estimator-doc-link.fitted:hover,\n",
       ".sk-estimator-doc-link.fitted:hover,\n",
       "div.sk-label-container:hover .sk-estimator-doc-link.fitted:hover,\n",
       ".sk-estimator-doc-link.fitted:hover {\n",
       "  /* fitted */\n",
       "  background-color: var(--sklearn-color-fitted-level-3);\n",
       "  color: var(--sklearn-color-background);\n",
       "  text-decoration: none;\n",
       "}\n",
       "\n",
       "/* Span, style for the box shown on hovering the info icon */\n",
       ".sk-estimator-doc-link span {\n",
       "  display: none;\n",
       "  z-index: 9999;\n",
       "  position: relative;\n",
       "  font-weight: normal;\n",
       "  right: .2ex;\n",
       "  padding: .5ex;\n",
       "  margin: .5ex;\n",
       "  width: min-content;\n",
       "  min-width: 20ex;\n",
       "  max-width: 50ex;\n",
       "  color: var(--sklearn-color-text);\n",
       "  box-shadow: 2pt 2pt 4pt #999;\n",
       "  /* unfitted */\n",
       "  background: var(--sklearn-color-unfitted-level-0);\n",
       "  border: .5pt solid var(--sklearn-color-unfitted-level-3);\n",
       "}\n",
       "\n",
       ".sk-estimator-doc-link.fitted span {\n",
       "  /* fitted */\n",
       "  background: var(--sklearn-color-fitted-level-0);\n",
       "  border: var(--sklearn-color-fitted-level-3);\n",
       "}\n",
       "\n",
       ".sk-estimator-doc-link:hover span {\n",
       "  display: block;\n",
       "}\n",
       "\n",
       "/* \"?\"-specific style due to the `<a>` HTML tag */\n",
       "\n",
       "#sk-container-id-12 a.estimator_doc_link {\n",
       "  float: right;\n",
       "  font-size: 1rem;\n",
       "  line-height: 1em;\n",
       "  font-family: monospace;\n",
       "  background-color: var(--sklearn-color-background);\n",
       "  border-radius: 1rem;\n",
       "  height: 1rem;\n",
       "  width: 1rem;\n",
       "  text-decoration: none;\n",
       "  /* unfitted */\n",
       "  color: var(--sklearn-color-unfitted-level-1);\n",
       "  border: var(--sklearn-color-unfitted-level-1) 1pt solid;\n",
       "}\n",
       "\n",
       "#sk-container-id-12 a.estimator_doc_link.fitted {\n",
       "  /* fitted */\n",
       "  border: var(--sklearn-color-fitted-level-1) 1pt solid;\n",
       "  color: var(--sklearn-color-fitted-level-1);\n",
       "}\n",
       "\n",
       "/* On hover */\n",
       "#sk-container-id-12 a.estimator_doc_link:hover {\n",
       "  /* unfitted */\n",
       "  background-color: var(--sklearn-color-unfitted-level-3);\n",
       "  color: var(--sklearn-color-background);\n",
       "  text-decoration: none;\n",
       "}\n",
       "\n",
       "#sk-container-id-12 a.estimator_doc_link.fitted:hover {\n",
       "  /* fitted */\n",
       "  background-color: var(--sklearn-color-fitted-level-3);\n",
       "}\n",
       "</style><div id=\"sk-container-id-12\" class=\"sk-top-container\"><div class=\"sk-text-repr-fallback\"><pre>MLPClassifier(activation=&#x27;tanh&#x27;, hidden_layer_sizes=(20, 20), max_iter=1,\n",
       "              warm_start=True)</pre><b>In a Jupyter environment, please rerun this cell to show the HTML representation or trust the notebook. <br />On GitHub, the HTML representation is unable to render, please try loading this page with nbviewer.org.</b></div><div class=\"sk-container\" hidden><div class=\"sk-item\"><div class=\"sk-estimator fitted sk-toggleable\"><input class=\"sk-toggleable__control sk-hidden--visually\" id=\"sk-estimator-id-12\" type=\"checkbox\" checked><label for=\"sk-estimator-id-12\" class=\"sk-toggleable__label fitted sk-toggleable__label-arrow\"><div><div>MLPClassifier</div></div><div><a class=\"sk-estimator-doc-link fitted\" rel=\"noreferrer\" target=\"_blank\" href=\"https://scikit-learn.org/1.6/modules/generated/sklearn.neural_network.MLPClassifier.html\">?<span>Documentation for MLPClassifier</span></a><span class=\"sk-estimator-doc-link fitted\">i<span>Fitted</span></span></div></label><div class=\"sk-toggleable__content fitted\"><pre>MLPClassifier(activation=&#x27;tanh&#x27;, hidden_layer_sizes=(20, 20), max_iter=1,\n",
       "              warm_start=True)</pre></div> </div></div></div></div>"
      ]
     },
     "execution_count": 189,
     "metadata": {},
     "output_type": "execute_result"
    }
   ],
   "execution_count": 189
  },
  {
   "cell_type": "code",
   "metadata": {
    "ExecuteTime": {
     "end_time": "2025-10-05T15:50:44.953352Z",
     "start_time": "2025-10-05T15:50:44.949836Z"
    }
   },
   "source": [
    "def generate_session(t_max=500):\n",
    "    states, actions = [], []\n",
    "    total_reward = 0\n",
    "\n",
    "    s, _ = env.reset()\n",
    "\n",
    "    for t in range(t_max):\n",
    "        probs = agent.predict_proba([s])[0]  # shape = (n_actions,)\n",
    "\n",
    "        a = np.random.choice(np.arange(n_actions), p=probs)\n",
    "\n",
    "        new_s, r, done, truncated, info = env.step(a)\n",
    "\n",
    "        states.append(s)\n",
    "        actions.append(a)\n",
    "        total_reward += r\n",
    "\n",
    "        s = new_s\n",
    "        if done or truncated:\n",
    "            break\n",
    "\n",
    "    return states, actions, total_reward\n"
   ],
   "outputs": [],
   "execution_count": 190
  },
  {
   "metadata": {
    "ExecuteTime": {
     "end_time": "2025-10-05T15:50:44.980989Z",
     "start_time": "2025-10-05T15:50:44.977067Z"
    }
   },
   "cell_type": "code",
   "source": [
    "def select_elites(states_batch,actions_batch,rewards_batch,percentile=50):\n",
    "    \"\"\"\n",
    "    Select states and actions from games that have rewards >= percentile\n",
    "    :param states_batch: list of lists of states, states_batch[session_i][t]\n",
    "    :param actions_batch: list of lists of actions, actions_batch[session_i][t]\n",
    "    :param rewards_batch: list of rewards, rewards_batch[session_i][t]\n",
    "\n",
    "    :returns: elite_states,elite_actions, both 1D lists of states and respective actions from elite sessions\n",
    "\n",
    "    Please return elite states and actions in their original order\n",
    "    [i.e. sorted by session number and timestep within session]\n",
    "\n",
    "    If you're confused, see examples below. Please don't assume that states are integers (they'll get different later).\n",
    "    \"\"\"\n",
    "    reward_threshold = np.percentile(rewards_batch,percentile)\n",
    "\n",
    "    elite_states = []\n",
    "    elite_actions = []\n",
    "\n",
    "    for i in range(len(rewards_batch)):\n",
    "        if rewards_batch[i] >= reward_threshold:\n",
    "            elite_states.extend(states_batch[i])\n",
    "            elite_actions.extend(actions_batch[i])\n",
    "\n",
    "    # превращаем списки в numpy-массивы\n",
    "    elite_states = np.array(elite_states)\n",
    "    elite_actions = np.array(elite_actions)\n",
    "\n",
    "    return elite_states, elite_actions\n"
   ],
   "outputs": [],
   "execution_count": 191
  },
  {
   "cell_type": "markdown",
   "metadata": {},
   "source": [
    "To train this classification model use fit(states, actions). In this case we are training classificator to predict the correct class (action) in a given state"
   ]
  },
  {
   "cell_type": "code",
   "metadata": {},
   "source": [
    "import numpy as np\n",
    "from sklearn.neural_network import MLPClassifier\n",
    "hidden_layer_sizes = (64,64)\n",
    "n_sessions = 500\n",
    "percentile = 70\n",
    "log = []\n",
    "\n",
    "for i in range(100):\n",
    "    sessions = [generate_session() for _ in range(n_sessions)]\n",
    "    states_batch, actions_batch, rewards_batch = zip(*sessions)\n",
    "\n",
    "    # объединяем все сессии в один массив для обучения\n",
    "    X_train = np.vstack(states_batch)       # shape = (total_steps, n_features)\n",
    "    y_train = np.hstack(actions_batch)\n",
    "    elite_states, elite_actions = select_elites(\n",
    "        states_batch, actions_batch, rewards_batch, percentile= percentile\n",
    "    )\n",
    "\n",
    "    agent.partial_fit(elite_states, elite_actions, classes=np.arange(n_actions))\n",
    "\n",
    "    mean_reward = np.mean(rewards_batch)\n",
    "    threshold = np.percentile(rewards_batch, percentile)\n",
    "    log.append((mean_reward, threshold))  # сохраняем и среднее,    log.append(mean_reward)\n",
    "\n",
    "    show_progress(rewards_batch, log, reward_range=[0, np.max(rewards_batch)])\n",
    "\n",
    "    print(f\"Iter {i}: mean_reward={mean_reward:.2f}, \"\n",
    "          f\"threshold={np.percentile(rewards_batch, percentile):.1f}, \"\n",
    "          f\"elite_size={len(elite_states)}\")\n",
    "\n",
    "    if mean_reward > 190:\n",
    "        print(\"🎉 You Win! Training complete.\")\n",
    "        break\n"
   ],
   "execution_count": 196,
   "outputs": [
    {
     "data": {
      "text/plain": [
       "<Figure size 800x400 with 2 Axes>"
      ],
      "image/png": "[encoded data removed]"
     },
     "metadata": {},
     "output_type": "display_data",
     "jetTransient": {
      "display_id": null
     }
    },
    {
     "name": "stdout",
     "output_type": "stream",
     "text": [
      "Iter 12: mean_reward=211.60, threshold=251.6, elite_size=49774\n",
      "🎉 You Win! Training complete.\n"
     ]
    }
   ]
  },
  {
   "cell_type": "markdown",
   "metadata": {},
   "source": [
    "# Report (1 pts)"
   ]
  },
  {
   "cell_type": "code",
   "metadata": {
    "ExecuteTime": {
     "end_time": "2025-10-05T15:51:20.239567Z",
     "start_time": "2025-10-05T15:51:20.237059Z"
    }
   },
   "source": [
    "# Describe what you did here.  Preferably with plot/report to support it"
   ],
   "outputs": [],
   "execution_count": 193
  }
 ],
 "metadata": {
  "kernelspec": {
   "display_name": "Python 3 (ipykernel)",
   "language": "python",
   "name": "python3"
  },
  "language_info": {
   "codemirror_mode": {
    "name": "ipython",
    "version": 3
   },
   "file_extension": ".py",
   "mimetype": "text/x-python",
   "name": "python",
   "nbconvert_exporter": "python",
   "pygments_lexer": "ipython3",
   "version": "3.9.12"
  }
 },
 "nbformat": 4,
 "nbformat_minor": 1
}
