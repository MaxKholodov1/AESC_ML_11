{
 "cells": [
  {
   "cell_type": "markdown",
   "metadata": {},
   "source": [
    "# Crossentropy method\n",
    "\n",
    "This notebook will teach you to solve reinforcement learning problems with crossentropy method. We'll follow-up by scaling everything up and using neural network policy."
   ]
  },
  {
   "cell_type": "code",
   "metadata": {
    "ExecuteTime": {
     "end_time": "2025-10-05T08:59:30.054561Z",
     "start_time": "2025-10-05T08:59:30.052194Z"
    }
   },
   "source": [
    "import os"
   ],
   "outputs": [],
   "execution_count": 59
  },
  {
   "cell_type": "code",
   "metadata": {
    "ExecuteTime": {
     "end_time": "2025-10-05T08:59:30.092651Z",
     "start_time": "2025-10-05T08:59:30.073799Z"
    }
   },
   "source": [
    "import gymnasium as gym\n",
    "import numpy as np, pandas as pd\n",
    "\n",
    "# env = gym.make(\"Taxi-v3\", render_mode=\"human\")\n",
    "env = gym.make(\"Taxi-v3\")\n",
    "env.reset()\n",
    "# env.render()"
   ],
   "outputs": [
    {
     "data": {
      "text/plain": [
       "(304, {'prob': 1.0, 'action_mask': array([1, 1, 0, 0, 0, 0], dtype=int8)})"
      ]
     },
     "execution_count": 60,
     "metadata": {},
     "output_type": "execute_result"
    }
   ],
   "execution_count": 60
  },
  {
   "cell_type": "code",
   "metadata": {
    "ExecuteTime": {
     "end_time": "2025-10-05T08:59:30.102519Z",
     "start_time": "2025-10-05T08:59:30.099562Z"
    }
   },
   "source": [
    "n_states = env.observation_space.n\n",
    "n_actions = env.action_space.n\n",
    "\n",
    "print(\"n_states=%i, n_actions=%i\"%(n_states,n_actions))"
   ],
   "outputs": [
    {
     "name": "stdout",
     "output_type": "stream",
     "text": [
      "n_states=500, n_actions=6\n"
     ]
    }
   ],
   "execution_count": 61
  },
  {
   "cell_type": "markdown",
   "metadata": {},
   "source": [
    "# Create stochastic policy\n",
    "\n",
    "This time our policy should be a probability distribution.\n",
    "\n",
    "```policy[s,a] = P(take action a | in state s)```\n",
    "\n",
    "Since we still use integer state and action representations, you can use a 2-dimensional array to represent the policy.\n",
    "\n",
    "Please initialize policy __uniformly__, that is, probabililities of all actions should be equal.\n"
   ]
  },
  {
   "cell_type": "markdown",
   "metadata": {},
   "source": [
    "# Initialize policy (0.5pts)"
   ]
  },
  {
   "cell_type": "code",
   "metadata": {
    "ExecuteTime": {
     "end_time": "2025-10-05T08:59:30.120730Z",
     "start_time": "2025-10-05T08:59:30.116966Z"
    }
   },
   "source": [
    "import numpy as np\n",
    "policy = np.ones((n_states, n_actions)) / n_actions\n",
    "assert type(policy) in (np.ndarray,np.matrix)\n",
    "assert np.allclose(policy,1./n_actions)\n",
    "assert np.allclose(np.sum(policy,axis=1), 1)\n",
    "print(\"Ok!\")"
   ],
   "outputs": [
    {
     "name": "stdout",
     "output_type": "stream",
     "text": [
      "Ok!\n"
     ]
    }
   ],
   "execution_count": 62
  },
  {
   "cell_type": "markdown",
   "metadata": {},
   "source": [
    "# Play the game (0.5pts)\n",
    "\n",
    "Just like before, but we also record all states and actions we took."
   ]
  },
  {
   "cell_type": "code",
   "metadata": {
    "ExecuteTime": {
     "end_time": "2025-10-05T08:59:30.137343Z",
     "start_time": "2025-10-05T08:59:30.133670Z"
    }
   },
   "source": [
    "def generate_session(policy,t_max=500):\n",
    "    \"\"\"\n",
    "    Play game until end or for t_max ticks.\n",
    "    :param policy: an array of shape [n_states,n_actions] with action probabilities\n",
    "    :returns: list of states, list of actions and sum of rewards\n",
    "    \"\"\"\n",
    "    states,actions = [],[]\n",
    "    total_reward = 0.\n",
    "    \n",
    "    s, _ = env.reset()\n",
    "    \n",
    "    for t in range(t_max):\n",
    "        a = np.random.choice(range(n_actions), p = policy[s])\n",
    "        \n",
    "        new_s, r, terminated, truncated, info = env.step(a)\n",
    "        done = terminated or truncated\n",
    "        #Record state, action and add up reward to states,actions and total_reward accordingly.\n",
    "                #add state\n",
    "        states.append(s)\n",
    "                #add action\n",
    "        actions.append(a)\n",
    "        #add reward\n",
    "        total_reward += r\n",
    "\n",
    "        \n",
    "        s = new_s\n",
    "        if done:\n",
    "            break\n",
    "    return states,actions,total_reward\n",
    "        "
   ],
   "outputs": [],
   "execution_count": 63
  },
  {
   "cell_type": "code",
   "metadata": {
    "ExecuteTime": {
     "end_time": "2025-10-05T08:59:30.156741Z",
     "start_time": "2025-10-05T08:59:30.148460Z"
    }
   },
   "source": [
    "s,a,r = generate_session(policy)\n",
    "assert type(s) == type(a) == list\n",
    "assert len(s) == len(a)\n",
    "assert isinstance(r, (float, np.float64))"
   ],
   "outputs": [],
   "execution_count": 64
  },
  {
   "cell_type": "code",
   "metadata": {
    "ExecuteTime": {
     "end_time": "2025-10-05T08:59:31.001058Z",
     "start_time": "2025-10-05T08:59:30.162834Z"
    }
   },
   "source": [
    "#let's see the initial reward distribution\n",
    "import matplotlib.pyplot as plt\n",
    "%matplotlib inline\n",
    "\n",
    "sample_rewards = [generate_session(policy,t_max=1000)[-1] for _ in range(200)]\n",
    "\n",
    "plt.hist(sample_rewards,bins=20);\n",
    "plt.vlines([np.percentile(sample_rewards,50)],[0],[100],label=\"50'th percentile\",color='green')\n",
    "plt.vlines([np.percentile(sample_rewards,90)],[0],[100],label=\"90'th percentile\",color='red')\n",
    "plt.legend()"
   ],
   "outputs": [
    {
     "data": {
      "text/plain": [
       "<matplotlib.legend.Legend at 0x22d39da65d0>"
      ]
     },
     "execution_count": 65,
     "metadata": {},
     "output_type": "execute_result"
    },
    {
     "data": {
      "text/plain": [
       "<Figure size 640x480 with 1 Axes>"
      ],
      "image/png": "[encoded data removed]"
     },
     "metadata": {},
     "output_type": "display_data",
     "jetTransient": {
      "display_id": null
     }
    }
   ],
   "execution_count": 65
  },
  {
   "cell_type": "markdown",
   "metadata": {},
   "source": [
    "### Crossentropy method steps (1pts)"
   ]
  },
  {
   "cell_type": "code",
   "metadata": {
    "ExecuteTime": {
     "end_time": "2025-10-05T08:59:31.009984Z",
     "start_time": "2025-10-05T08:59:31.006435Z"
    }
   },
   "source": [
    "def select_elites(states_batch,actions_batch,rewards_batch,percentile=50):\n",
    "    \"\"\"\n",
    "    Select states and actions from games that have rewards >= percentile\n",
    "    :param states_batch: list of lists of states, states_batch[session_i][t]\n",
    "    :param actions_batch: list of lists of actions, actions_batch[session_i][t]\n",
    "    :param rewards_batch: list of rewards, rewards_batch[session_i][t]\n",
    "    \n",
    "    :returns: elite_states,elite_actions, both 1D lists of states and respective actions from elite sessions\n",
    "    \n",
    "    Please return elite states and actions in their original order \n",
    "    [i.e. sorted by session number and timestep within session]\n",
    "    \n",
    "    If you're confused, see examples below. Please don't assume that states are integers (they'll get different later).\n",
    "    \"\"\" \n",
    "    # reward_threshold = #recalc threshold. hint : np.percentile\n",
    "    reward_threshold = np.percentile(rewards_batch, percentile)\n",
    "    elite_actions = []\n",
    "    elite_states = []\n",
    "    for states, actions, reward in zip(states_batch, actions_batch, rewards_batch):\n",
    "        if reward >= reward_threshold:\n",
    "            elite_states.append(states)\n",
    "            elite_actions.append(actions)\n",
    "    if len(np.array(states_batch[0]).shape) == 1:\n",
    "        elite_states = np.hstack(elite_states)\n",
    "    else:\n",
    "        elite_states = np.vstack(elite_states)\n",
    "\n",
    "    elite_actions = np.hstack(elite_actions)\n",
    "\n",
    "    return elite_states, elite_actions\n",
    "    "
   ],
   "outputs": [],
   "execution_count": 66
  },
  {
   "cell_type": "code",
   "metadata": {
    "ExecuteTime": {
     "end_time": "2025-10-05T08:59:31.025953Z",
     "start_time": "2025-10-05T08:59:31.020614Z"
    }
   },
   "source": [
    "import numpy as np\n",
    "states_batch = ([\n",
    "    np.array([1,2,3]),   #game1\n",
    "    np.array([4,2,0,2]), #game2\n",
    "    np.array([3,1])      #game3\n",
    "])\n",
    "\n",
    "actions_batch = ([\n",
    "    np.array([0,2,4]),   #game1\n",
    "    np.array([3,2,0,1]), #game2\n",
    "    np.array([3,3])      #game3\n",
    "])\n",
    "rewards_batch = np.array([\n",
    "    3,         #game1\n",
    "    4,         #game2\n",
    "    5,         #game3\n",
    "])\n",
    "\n",
    "test_result_0 = select_elites(states_batch,actions_batch,rewards_batch,percentile=0)\n",
    "test_result_40 = select_elites(states_batch,actions_batch,rewards_batch,percentile=30)\n",
    "test_result_90 = select_elites(states_batch,actions_batch,rewards_batch,percentile=90)\n",
    "test_result_100 = select_elites(states_batch,actions_batch,rewards_batch,percentile=100)\n",
    "\n",
    "assert np.all(test_result_0[0] == [1, 2, 3, 4, 2, 0, 2, 3, 1])  \\\n",
    "   and np.all(test_result_0[1] == [0, 2, 4, 3, 2, 0, 1, 3, 3]),\\\n",
    "        \"For percentile 0 you should return all states and actions in chronological order\"\n",
    "assert np.all(test_result_40[0] == [4, 2, 0, 2, 3, 1]) and \\\n",
    "        np.all(test_result_40[1] ==[3, 2, 0, 1, 3, 3]),\\\n",
    "        \"For percentile 30 you should only select states/actions from two first\"\n",
    "assert np.all(test_result_90[0] == [3,1]) and \\\n",
    "        np.all(test_result_90[1] == [3,3]),\\\n",
    "        \"For percentile 90 you should only select states/actions from one game\"\n",
    "assert np.all(test_result_100[0] == [3,1]) and\\\n",
    "       np.all(test_result_100[1] == [3,3]),\\\n",
    "        \"Please make sure you use >=, not >. Also double-check how you compute percentile.\"\n",
    "print(\"Ok!\")"
   ],
   "outputs": [
    {
     "name": "stdout",
     "output_type": "stream",
     "text": [
      "Ok!\n"
     ]
    }
   ],
   "execution_count": 67
  },
  {
   "cell_type": "code",
   "metadata": {
    "ExecuteTime": {
     "end_time": "2025-10-05T08:59:31.040208Z",
     "start_time": "2025-10-05T08:59:31.036677Z"
    }
   },
   "source": [
    "def update_policy(elite_states,elite_actions):\n",
    "    \"\"\"\n",
    "    Given old policy and a list of elite states/actions from select_elites,\n",
    "    return new updated policy where each action probability is proportional to\n",
    "    \n",
    "    policy[s_i,a_i] ~ #[occurences of si and ai in elite states/actions]\n",
    "    \n",
    "    Don't forget to normalize policy to get valid probabilities and handle 0/0 case.\n",
    "    In case you never visited a state, set probabilities for all actions to 1./n_actions\n",
    "    \n",
    "    :param elite_states: 1D list of states from elite sessions\n",
    "    :param elite_actions: 1D list of actions from elite sessions\n",
    "    \n",
    "    \"\"\"\n",
    "    \n",
    "    new_policy = np.zeros([n_states,n_actions])\n",
    "    for s, a in zip(elite_states, elite_actions):\n",
    "        new_policy[s, a] += 1\n",
    "    for s in range(n_states):\n",
    "        total = np.sum(new_policy[s])\n",
    "        if total > 0:\n",
    "            new_policy[s] /= total\n",
    "        else:\n",
    "            new_policy[s] = 1.0 / n_actions\n",
    "    #<Your code here: update probabilities for actions given elite states & actions>\n",
    "    #Don't forget to set 1/n_actions for all actions in unvisited states.\n",
    "    \n",
    "    return new_policy"
   ],
   "outputs": [],
   "execution_count": 68
  },
  {
   "cell_type": "code",
   "metadata": {
    "ExecuteTime": {
     "end_time": "2025-10-05T08:59:31.059310Z",
     "start_time": "2025-10-05T08:59:31.052436Z"
    }
   },
   "source": [
    "\n",
    "elite_states, elite_actions = ([1, 2, 3, 4, 2, 0, 2, 3, 1], [0, 2, 4, 3, 2, 0, 1, 3, 3])\n",
    "\n",
    "\n",
    "new_policy = update_policy(elite_states,elite_actions)\n",
    "\n",
    "assert np.isfinite(new_policy).all(), \"Your new policy contains NaNs or +-inf. Make sure you don't divide by zero.\"\n",
    "assert np.all(new_policy>=0), \"Your new policy can't have negative action probabilities\"\n",
    "assert np.allclose(new_policy.sum(axis=-1),1), \"Your new policy should be a valid probability distribution over actions\"\n",
    "reference_answer = np.array([\n",
    "       [ 1.        ,  0.        ,  0.        ,  0.        ,  0.        ],\n",
    "       [ 0.5       ,  0.        ,  0.        ,  0.5       ,  0.        ],\n",
    "       [ 0.        ,  0.33333333,  0.66666667,  0.        ,  0.        ],\n",
    "       [ 0.        ,  0.        ,  0.        ,  0.5       ,  0.5       ]])\n",
    "print(new_policy[:4,:5])\n",
    "assert np.allclose(new_policy[:4,:5],reference_answer)\n",
    "print(\"Ok!\")"
   ],
   "outputs": [
    {
     "name": "stdout",
     "output_type": "stream",
     "text": [
      "[[1.         0.         0.         0.         0.        ]\n",
      " [0.5        0.         0.         0.5        0.        ]\n",
      " [0.         0.33333333 0.66666667 0.         0.        ]\n",
      " [0.         0.         0.         0.5        0.5       ]]\n",
      "Ok!\n"
     ]
    }
   ],
   "execution_count": 69
  },
  {
   "cell_type": "markdown",
   "metadata": {},
   "source": [
    "# Training loop (1pts)\n",
    "Generate sessions, select N best and fit to those."
   ]
  },
  {
   "cell_type": "code",
   "metadata": {
    "ExecuteTime": {
     "end_time": "2025-10-05T08:59:31.074671Z",
     "start_time": "2025-10-05T08:59:31.069499Z"
    }
   },
   "source": [
    "from IPython.display import clear_output\n",
    "import matplotlib.pyplot as plt\n",
    "%matplotlib inline\n",
    "\n",
    "def show_progress(rewards_batch,log, reward_range=[-990,+10]):\n",
    "    \"\"\"\n",
    "    A convenience function that displays training progress. \n",
    "    No cool math here, just charts.\n",
    "    \"\"\"\n",
    "    \n",
    "    mean_reward = np.mean(rewards_batch)\n",
    "    threshold = np.percentile(rewards_batch,percentile)\n",
    "    log.append([mean_reward,threshold])\n",
    "\n",
    "    clear_output(True)\n",
    "    print(\"mean reward = %.3f, threshold=%.3f\"%(mean_reward,threshold))\n",
    "    plt.figure(figsize=[8,4])\n",
    "    plt.subplot(1,2,1)\n",
    "    plt.plot(list(zip(*log))[0],label='Mean rewards')\n",
    "    plt.plot(list(zip(*log))[1],label='Reward thresholds')\n",
    "    plt.legend()\n",
    "    plt.grid()\n",
    "    \n",
    "    plt.subplot(1,2,2)\n",
    "    plt.hist(rewards_batch,range=reward_range);\n",
    "    plt.vlines([np.percentile(rewards_batch,percentile)],[0],[100],label=\"percentile\",color='red')\n",
    "    plt.legend()\n",
    "    plt.grid()\n",
    "\n",
    "    plt.show()\n"
   ],
   "outputs": [],
   "execution_count": 70
  },
  {
   "cell_type": "code",
   "metadata": {
    "ExecuteTime": {
     "end_time": "2025-10-05T08:59:31.085260Z",
     "start_time": "2025-10-05T08:59:31.083108Z"
    }
   },
   "source": [
    "#reset policy just in case\n"
   ],
   "outputs": [],
   "execution_count": 71
  },
  {
   "cell_type": "code",
   "metadata": {
    "ExecuteTime": {
     "end_time": "2025-10-05T08:59:31.094074Z",
     "start_time": "2025-10-05T08:59:31.091256Z"
    }
   },
   "source": [
    "# n_sessions = 250  #sample this many sessions\n",
    "# percentile = 70  #take this percent of session with highest rewards\n",
    "# learning_rate = 0.5  #add this thing to all counts for stability\n",
    "#\n",
    "# log = []\n",
    "#\n",
    "# for i in range(100):\n",
    "#    # генерируем сессии\n",
    "#     sessions = [generate_session(policy) for _ in range(n_sessions)]\n",
    "#\n",
    "#     states_batch, actions_batch, rewards_batch = zip(*sessions)\n",
    "#\n",
    "#     # выбираем элитные состояния/действия\n",
    "#     elite_states, elite_actions = select_elites(\n",
    "#         states_batch, actions_batch, rewards_batch, percentile=percentile\n",
    "#     )\n",
    "#\n",
    "#     # обновляем политику\n",
    "#     new_policy = update_policy(elite_states, elite_actions)\n",
    "#     policy = learning_rate * new_policy + (1 - learning_rate) * policy\n",
    "#\n",
    "#     # отображаем прогресс\n",
    "#     show_progress(rewards_batch, log)"
   ],
   "outputs": [],
   "execution_count": 72
  },
  {
   "cell_type": "markdown",
   "metadata": {},
   "source": [
    "# Tabular crossentropy method\n",
    "\n",
    "You may have noticed that the taxi problem quickly converges from -100 to a near-optimal score and then descends back into -50/-100. This is in part because the environment has some innate randomness. Namely, the starting points of passenger/driver change from episode to episode.\n",
    "\n",
    "### Tasks\n",
    "- __1.1__ (1 pts) Find out how the algorithm performance changes if you change different percentile and different n_samples. Show all precentiles on one graph and all n_samples on another\n",
    "- __1.2__ (1 pts) Tune the algorithm to end up with positive average score.\n",
    "\n",
    "It's okay to modify the existing code.\n"
   ]
  },
  {
   "cell_type": "code",
   "metadata": {
    "ExecuteTime": {
     "end_time": "2025-10-05T08:59:31.110419Z",
     "start_time": "2025-10-05T08:59:31.099035Z"
    }
   },
   "source": [
    "import numpy as np, pandas as pd\n",
    "import gymnasium as gym\n",
    "\n",
    "env = gym.make(\"Taxi-v3\")\n",
    "env.reset()\n",
    "n_states = env.observation_space.n\n",
    "n_actions = env.action_space.n\n",
    "policy = 1/6. * np.ones([n_states, n_actions])\n",
    "assert type(policy) in (np.ndarray,np.matrix)\n",
    "assert np.allclose(policy,1./n_actions)\n",
    "assert np.allclose(np.sum(policy,axis=1), 1)\n",
    "s,a,r = generate_session(policy)\n",
    "assert type(s) == type(a) == list\n",
    "assert len(s) == len(a)\n",
    "assert isinstance(r, (float, np.float64))\n",
    "policy = np.ones([n_states,n_actions])/n_actions \n",
    "stepCounter = 60"
   ],
   "outputs": [],
   "execution_count": 73
  },
  {
   "cell_type": "code",
   "metadata": {
    "ExecuteTime": {
     "end_time": "2025-10-05T08:59:31.118714Z",
     "start_time": "2025-10-05T08:59:31.115500Z"
    }
   },
   "source": [
    "# n_sessions = 250  #sample this many sessions\n",
    "# percentiles = [30, 50, 70, 90]  #take this percent of session with highest rewards\n",
    "# learning_rate = 0.5  #add this thing to all counts for stability\n",
    "# mean_by_percentile = {}\n",
    "#\n",
    "#\n",
    "# log = []\n",
    "# mean = []\n",
    "# for percentile in percentiles:\n",
    "#     curMean = []\n",
    "#     policy = np.ones([n_states,n_actions])/n_actions\n",
    "#     for i in range(stepCounter):\n",
    "#\n",
    "#         %time sessions = [generate_session(policy) for _ in range(n_sessions)]\n",
    "#\n",
    "#         states_batch,actions_batch,rewards_batch = zip(*sessions)\n",
    "#\n",
    "#         elite_states, elite_actions = select_elites(states_batch,actions_batch,rewards_batch,percentile=percentile)\n",
    "#         new_policy = update_policy(elite_states, elite_actions)\n",
    "#         policy = learning_rate * new_policy + (1 - learning_rate) * policy\n",
    "#\n",
    "#         curMean.append(np.mean(rewards_batch))\n",
    "#         #set new policy\n",
    "#         #update policy\n",
    "#         #add mean value\n",
    "#     mean_by_percentile[percentile] = curMean  # сохраняем результаты для этого percentile\n",
    "#     #display results on chart\n",
    "# plt.figure(figsize=(8,5))\n",
    "# for percentile, mean_rewards in mean_by_percentile.items():\n",
    "#     plt.plot(mean_rewards, label=f'percentile={percentile}')\n",
    "# plt.xlabel('Iteration')\n",
    "# plt.ylabel('Mean reward')\n",
    "# plt.title('Effect of percentile on learning')\n",
    "# plt.legend()\n",
    "# plt.grid()\n",
    "# plt.show()"
   ],
   "outputs": [],
   "execution_count": 74
  },
  {
   "cell_type": "markdown",
   "metadata": {},
   "source": [
    "# How do different percentiles affect training efficiency?"
   ]
  },
  {
   "metadata": {
    "ExecuteTime": {
     "end_time": "2025-10-05T06:29:12.058998Z",
     "start_time": "2025-10-05T06:29:12.055711Z"
    }
   },
   "cell_type": "markdown",
   "source": [
    "Низкие процентили (например, 70 - 90%) - быстрый рост, но большой риск застрять в локальном максимуме из-за того, что мало новых данных.\n",
    "\n",
    "Средние процентили (около 50%) - лучший компромисс, стабильное и эффективное обучение.\n",
    "\n",
    "Высокие процентили (30%) - медленный рост, обновления размываются низкоэффективными сессиями."
   ]
  },
  {
   "cell_type": "code",
   "metadata": {
    "ExecuteTime": {
     "end_time": "2025-10-05T08:59:31.127581Z",
     "start_time": "2025-10-05T08:59:31.124752Z"
    }
   },
   "source": [
    "# n_sessions_ar = [100, 200, 300, 400]  #sample this many sessions\n",
    "# perc = 50  #take this percent of session with highest rewards\n",
    "# learning_rate = 0.5  #add this thing to all counts for stability\n",
    "#\n",
    "# log = []\n",
    "# mean = []\n",
    "# for n_sessions in n_sessions_ar:\n",
    "#     curMean = []\n",
    "#     policy = np.ones([n_states,n_actions])/n_actions\n",
    "#     for i in range(stepCounter):\n",
    "#\n",
    "#         %time sessions = [generate_session(policy) for _ in range(n_sessions)]\n",
    "#\n",
    "#         states_batch,actions_batch,rewards_batch = zip(*sessions)\n",
    "#\n",
    "#         elite_states, elite_actions = select_elites(\n",
    "#             states_batch,\n",
    "#             actions_batch,rewards_batch,\n",
    "#             percentile=perc)\n",
    "#\n",
    "#         #set new policy\n",
    "#         #update policy\n",
    "#         #add mean value\n",
    "#         new_policy = update_policy(elite_states, elite_actions)\n",
    "#         policy = learning_rate * new_policy + (1 - learning_rate) * policy\n",
    "#         curMean.append(np.mean(rewards_batch))\n",
    "#         clear_output(True)\n",
    "#     mean.append(curMean)\n",
    "#     #display results on chart\n",
    "#     plt.figure(figsize=(8,5))\n",
    "# for idx, n_sessions in enumerate(n_sessions_ar):\n",
    "#     plt.plot(mean[idx], label=f'n_sessions={n_sessions}')\n",
    "# plt.xlabel('Iteration')\n",
    "# plt.ylabel('Mean reward')\n",
    "# plt.title('Effect of n_sessions on learning')\n",
    "# plt.legend()\n",
    "# plt.grid()\n",
    "# plt.show()"
   ],
   "outputs": [],
   "execution_count": 75
  },
  {
   "cell_type": "markdown",
   "metadata": {},
   "source": [
    "# Stabilize positive rewards by averaging policy across 10 games (2 pts)"
   ]
  },
  {
   "cell_type": "code",
   "metadata": {
    "jupyter": {
     "is_executing": true
    }
   },
   "source": [
    "n_sessions = 300  #sample this many sessions\n",
    "percentile = 40  #take this percent of session with highest rewards\n",
    "learning_rate = 0.25 #add this thing to all counts for stability\n",
    "\n",
    "log = []\n",
    "mx = -10000\n",
    "for i in range(1000):\n",
    "   # генерируем сессии\n",
    "    sessions = [generate_session(policy) for _ in range(n_sessions)]\n",
    "\n",
    "    states_batch, actions_batch, rewards_batch = zip(*sessions)\n",
    "\n",
    "    # выбираем элитные состояния/действия\n",
    "    elite_states, elite_actions = select_elites(\n",
    "        states_batch, actions_batch, rewards_batch, percentile=percentile\n",
    "    )\n",
    "\n",
    "    # обновляем политику\n",
    "    new_policy = update_policy(elite_states, elite_actions)\n",
    "    policy = learning_rate * new_policy + (1 - learning_rate) * policy\n",
    "\n",
    "    # отображаем прогресс\n",
    "    show_progress(rewards_batch, log)\n",
    "    if (np.mean(rewards_batch) > mx):\n",
    "        mx = np.mean(rewards_batch)\n",
    "        print(mx)\n",
    "    if(np.mean(rewards_batch) > 7):\n",
    "        print(\"win!\")\n",
    "        break\n",
    "print(mx)"
   ],
   "execution_count": null,
   "outputs": [
    {
     "data": {
      "text/plain": [
       "<Figure size 800x400 with 2 Axes>"
      ],
      "image/png": "[encoded data removed]"
     },
     "metadata": {},
     "output_type": "display_data",
     "jetTransient": {
      "display_id": null
     }
    }
   ]
  },
  {
   "cell_type": "markdown",
   "metadata": {},
   "source": [
    "# Digging deeper: approximate crossentropy with neural nets (2 pts)\n",
    "\n",
    "In this section we will train a neural network policy for continuous state space game"
   ]
  },
  {
   "cell_type": "code",
   "metadata": {
    "ExecuteTime": {
     "end_time": "2025-10-05T08:59:06.133675Z",
     "start_time": "2025-10-05T08:59:06.104749Z"
    }
   },
   "source": [
    "import gym\n",
    "import numpy as np, pandas as pd\n",
    "import matplotlib.pyplot as plt\n",
    "%matplotlib inline\n",
    "env = gym.make(\"CartPole-v0\").env  #if you see \"<classname> has no attribute .env\", remove .env or update gym\n",
    "\n",
    "env.reset()\n",
    "n_actions = env.action_space.n\n",
    "\n",
    "plt.imshow(env.render(\"rgb_array\"))"
   ],
   "outputs": [
    {
     "ename": "TypeError",
     "evalue": "CartPoleEnv.render() takes 1 positional argument but 2 were given",
     "output_type": "error",
     "traceback": [
      "\u001B[1;31m---------------------------------------------------------------------------\u001B[0m",
      "\u001B[1;31mTypeError\u001B[0m                                 Traceback (most recent call last)",
      "Cell \u001B[1;32mIn[57], line 10\u001B[0m\n\u001B[0;32m      7\u001B[0m env\u001B[38;5;241m.\u001B[39mreset()\n\u001B[0;32m      8\u001B[0m n_actions \u001B[38;5;241m=\u001B[39m env\u001B[38;5;241m.\u001B[39maction_space\u001B[38;5;241m.\u001B[39mn\n\u001B[1;32m---> 10\u001B[0m plt\u001B[38;5;241m.\u001B[39mimshow(\u001B[43menv\u001B[49m\u001B[38;5;241;43m.\u001B[39;49m\u001B[43mrender\u001B[49m\u001B[43m(\u001B[49m\u001B[38;5;124;43m\"\u001B[39;49m\u001B[38;5;124;43mrgb_array\u001B[39;49m\u001B[38;5;124;43m\"\u001B[39;49m\u001B[43m)\u001B[49m)\n",
      "File \u001B[1;32m~\\AppData\\Local\\Programs\\Python\\Python313\\Lib\\site-packages\\gym\\wrappers\\order_enforcing.py:51\u001B[0m, in \u001B[0;36mOrderEnforcing.render\u001B[1;34m(self, *args, **kwargs)\u001B[0m\n\u001B[0;32m     46\u001B[0m \u001B[38;5;28;01mif\u001B[39;00m \u001B[38;5;129;01mnot\u001B[39;00m \u001B[38;5;28mself\u001B[39m\u001B[38;5;241m.\u001B[39m_disable_render_order_enforcing \u001B[38;5;129;01mand\u001B[39;00m \u001B[38;5;129;01mnot\u001B[39;00m \u001B[38;5;28mself\u001B[39m\u001B[38;5;241m.\u001B[39m_has_reset:\n\u001B[0;32m     47\u001B[0m     \u001B[38;5;28;01mraise\u001B[39;00m ResetNeeded(\n\u001B[0;32m     48\u001B[0m         \u001B[38;5;124m\"\u001B[39m\u001B[38;5;124mCannot call `env.render()` before calling `env.reset()`, if this is a intended action, \u001B[39m\u001B[38;5;124m\"\u001B[39m\n\u001B[0;32m     49\u001B[0m         \u001B[38;5;124m\"\u001B[39m\u001B[38;5;124mset `disable_render_order_enforcing=True` on the OrderEnforcer wrapper.\u001B[39m\u001B[38;5;124m\"\u001B[39m\n\u001B[0;32m     50\u001B[0m     )\n\u001B[1;32m---> 51\u001B[0m \u001B[38;5;28;01mreturn\u001B[39;00m \u001B[38;5;28;43mself\u001B[39;49m\u001B[38;5;241;43m.\u001B[39;49m\u001B[43menv\u001B[49m\u001B[38;5;241;43m.\u001B[39;49m\u001B[43mrender\u001B[49m\u001B[43m(\u001B[49m\u001B[38;5;241;43m*\u001B[39;49m\u001B[43margs\u001B[49m\u001B[43m,\u001B[49m\u001B[43m \u001B[49m\u001B[38;5;241;43m*\u001B[39;49m\u001B[38;5;241;43m*\u001B[39;49m\u001B[43mkwargs\u001B[49m\u001B[43m)\u001B[49m\n",
      "File \u001B[1;32m~\\AppData\\Local\\Programs\\Python\\Python313\\Lib\\site-packages\\gym\\wrappers\\env_checker.py:53\u001B[0m, in \u001B[0;36mPassiveEnvChecker.render\u001B[1;34m(self, *args, **kwargs)\u001B[0m\n\u001B[0;32m     51\u001B[0m \u001B[38;5;28;01mif\u001B[39;00m \u001B[38;5;28mself\u001B[39m\u001B[38;5;241m.\u001B[39mchecked_render \u001B[38;5;129;01mis\u001B[39;00m \u001B[38;5;28;01mFalse\u001B[39;00m:\n\u001B[0;32m     52\u001B[0m     \u001B[38;5;28mself\u001B[39m\u001B[38;5;241m.\u001B[39mchecked_render \u001B[38;5;241m=\u001B[39m \u001B[38;5;28;01mTrue\u001B[39;00m\n\u001B[1;32m---> 53\u001B[0m     \u001B[38;5;28;01mreturn\u001B[39;00m \u001B[43menv_render_passive_checker\u001B[49m\u001B[43m(\u001B[49m\u001B[38;5;28;43mself\u001B[39;49m\u001B[38;5;241;43m.\u001B[39;49m\u001B[43menv\u001B[49m\u001B[43m,\u001B[49m\u001B[43m \u001B[49m\u001B[38;5;241;43m*\u001B[39;49m\u001B[43margs\u001B[49m\u001B[43m,\u001B[49m\u001B[43m \u001B[49m\u001B[38;5;241;43m*\u001B[39;49m\u001B[38;5;241;43m*\u001B[39;49m\u001B[43mkwargs\u001B[49m\u001B[43m)\u001B[49m\n\u001B[0;32m     54\u001B[0m \u001B[38;5;28;01melse\u001B[39;00m:\n\u001B[0;32m     55\u001B[0m     \u001B[38;5;28;01mreturn\u001B[39;00m \u001B[38;5;28mself\u001B[39m\u001B[38;5;241m.\u001B[39menv\u001B[38;5;241m.\u001B[39mrender(\u001B[38;5;241m*\u001B[39margs, \u001B[38;5;241m*\u001B[39m\u001B[38;5;241m*\u001B[39mkwargs)\n",
      "File \u001B[1;32m~\\AppData\\Local\\Programs\\Python\\Python313\\Lib\\site-packages\\gym\\utils\\passive_env_checker.py:316\u001B[0m, in \u001B[0;36menv_render_passive_checker\u001B[1;34m(env, *args, **kwargs)\u001B[0m\n\u001B[0;32m    310\u001B[0m     \u001B[38;5;28;01melse\u001B[39;00m:\n\u001B[0;32m    311\u001B[0m         \u001B[38;5;28;01massert\u001B[39;00m env\u001B[38;5;241m.\u001B[39mrender_mode \u001B[38;5;129;01mis\u001B[39;00m \u001B[38;5;28;01mNone\u001B[39;00m \u001B[38;5;129;01mor\u001B[39;00m env\u001B[38;5;241m.\u001B[39mrender_mode \u001B[38;5;129;01min\u001B[39;00m render_modes, (\n\u001B[0;32m    312\u001B[0m             \u001B[38;5;124m\"\u001B[39m\u001B[38;5;124mThe environment was initialized successfully however with an unsupported render mode. \u001B[39m\u001B[38;5;124m\"\u001B[39m\n\u001B[0;32m    313\u001B[0m             \u001B[38;5;124mf\u001B[39m\u001B[38;5;124m\"\u001B[39m\u001B[38;5;124mRender mode: \u001B[39m\u001B[38;5;132;01m{\u001B[39;00menv\u001B[38;5;241m.\u001B[39mrender_mode\u001B[38;5;132;01m}\u001B[39;00m\u001B[38;5;124m, modes: \u001B[39m\u001B[38;5;132;01m{\u001B[39;00mrender_modes\u001B[38;5;132;01m}\u001B[39;00m\u001B[38;5;124m\"\u001B[39m\n\u001B[0;32m    314\u001B[0m         )\n\u001B[1;32m--> 316\u001B[0m result \u001B[38;5;241m=\u001B[39m \u001B[43menv\u001B[49m\u001B[38;5;241;43m.\u001B[39;49m\u001B[43mrender\u001B[49m\u001B[43m(\u001B[49m\u001B[38;5;241;43m*\u001B[39;49m\u001B[43margs\u001B[49m\u001B[43m,\u001B[49m\u001B[43m \u001B[49m\u001B[38;5;241;43m*\u001B[39;49m\u001B[38;5;241;43m*\u001B[39;49m\u001B[43mkwargs\u001B[49m\u001B[43m)\u001B[49m\n\u001B[0;32m    318\u001B[0m \u001B[38;5;66;03m# TODO: Check that the result is correct\u001B[39;00m\n\u001B[0;32m    320\u001B[0m \u001B[38;5;28;01mreturn\u001B[39;00m result\n",
      "\u001B[1;31mTypeError\u001B[0m: CartPoleEnv.render() takes 1 positional argument but 2 were given"
     ]
    }
   ],
   "execution_count": 57
  },
  {
   "cell_type": "markdown",
   "metadata": {},
   "source": [
    "In this case use NN as a black box. All your should know that it is more complex than a tabular method. "
   ]
  },
  {
   "cell_type": "code",
   "metadata": {},
   "source": [
    "#create agent\n",
    "from sklearn.neural_network import MLPClassifier\n",
    "agent = MLPClassifier(hidden_layer_sizes=(20,20),\n",
    "                      activation='tanh',\n",
    "                      warm_start=True, #keep progress between .fit(...) calls\n",
    "                      max_iter=1 #make only 1 iteration on each .fit(...)\n",
    "                     )\n",
    "#initialize agent to the dimension of state an amount of actions\n",
    "agent.fit([env.reset()]*n_actions,range(n_actions));\n"
   ],
   "outputs": [],
   "execution_count": null
  },
  {
   "cell_type": "code",
   "metadata": {},
   "source": [
    "def generate_session(t_max=1000):\n",
    "    \n",
    "    states,actions = [],[]\n",
    "    total_reward = 0\n",
    "    \n",
    "    s = env.reset()\n",
    "    \n",
    "    for t in range(t_max):\n",
    "        \n",
    "        #predict array of action probabilities hint: predict_proba\n",
    "        \n",
    "        \n",
    "        a = np.random.choice(np.arange(n_actions), p=probs)\n",
    "        \n",
    "        new_s,r,done,info = env.step(a)\n",
    "        \n",
    "        #record sessions like you did before\n",
    "        \n",
    "        \n",
    "        s = new_s\n",
    "        if done: break\n",
    "    return states,actions,total_reward\n",
    "        "
   ],
   "outputs": [],
   "execution_count": null
  },
  {
   "cell_type": "code",
   "metadata": {},
   "source": [
    "def select_elites(states_batch,actions_batch,rewards_batch,percentile=50):\n",
    "    \"\"\"\n",
    "    Select states and actions from games that have rewards >= percentile\n",
    "    :param states_batch: list of lists of states, states_batch[session_i][t]\n",
    "    :param actions_batch: list of lists of actions, actions_batch[session_i][t]\n",
    "    :param rewards_batch: list of rewards, rewards_batch[session_i][t]\n",
    "    \n",
    "    :returns: elite_states,elite_actions, both 1D lists of states and respective actions from elite sessions\n",
    "    \n",
    "    Please return elite states and actions in their original order \n",
    "    [i.e. sorted by session number and timestep within session]\n",
    "    \n",
    "    If you're confused, see examples below. Please don't assume that states are integers (they'll get different later).\n",
    "    \"\"\" \n",
    "    reward_threshold = np.percentile(rewards_batch,percentile)\n",
    "    \n",
    "    elite_states = []\n",
    "    \n",
    "    if(len(np.array(states_batch[0]).shape) == 1):\n",
    "        elite_states = np.hstack(states_batch[rewards_batch >= reward_threshold])\n",
    "    else:\n",
    "        elite_states = np.vstack(states_batch[rewards_batch >= reward_threshold])\n",
    "    elite_actions = np.hstack(actions_batch[rewards_batch >= reward_threshold])\n",
    "    \n",
    "    return elite_states,elite_actions\n",
    "    "
   ],
   "outputs": [],
   "execution_count": null
  },
  {
   "cell_type": "markdown",
   "metadata": {},
   "source": [
    "To train this classification model use fit(states, actions). In this case we are training classificator to predict the correct class (action) in a given state"
   ]
  },
  {
   "cell_type": "code",
   "metadata": {},
   "source": [
    "n_sessions = 100\n",
    "percentile = 70\n",
    "log = []\n",
    "\n",
    "for i in range(100):\n",
    "    #generate new sessions\n",
    "    sessions = [generate_session() for _ in range(n_sessions)]\n",
    "\n",
    "    states_batch,actions_batch,rewards_batch = map(np.array,zip(*sessions))\n",
    "    print(states_batch.shape)\n",
    "\n",
    "    elite_states, elite_actions = select_elites(states_batch,actions_batch,rewards_batch,percentile=50)\n",
    "    \n",
    "    #fit agent\n",
    "\n",
    "    show_progress(rewards_batch,log,reward_range=[0,np.max(rewards_batch)])\n",
    "    \n",
    "    if np.mean(rewards_batch)> 190:\n",
    "        print(\"You Win! You may stop training now via KeyboardInterrupt.\")\n",
    "        break"
   ],
   "outputs": [],
   "execution_count": null
  },
  {
   "cell_type": "markdown",
   "metadata": {},
   "source": [
    "# Report (1 pts)"
   ]
  },
  {
   "cell_type": "code",
   "metadata": {},
   "source": [
    "# Describe what you did here.  Preferably with plot/report to support it"
   ],
   "outputs": [],
   "execution_count": null
  }
 ],
 "metadata": {
  "kernelspec": {
   "display_name": "Python 3 (ipykernel)",
   "language": "python",
   "name": "python3"
  },
  "language_info": {
   "codemirror_mode": {
    "name": "ipython",
    "version": 3
   },
   "file_extension": ".py",
   "mimetype": "text/x-python",
   "name": "python",
   "nbconvert_exporter": "python",
   "pygments_lexer": "ipython3",
   "version": "3.9.12"
  }
 },
 "nbformat": 4,
 "nbformat_minor": 1
}
